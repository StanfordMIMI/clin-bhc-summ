{
 "cells": [
  {
   "cell_type": "code",
   "execution_count": null,
   "id": "9db79f7c-9f5b-40dd-a085-4eccc4ef2bc6",
   "metadata": {},
   "outputs": [],
   "source": [
    "import pandas as pd\n",
    "import numpy as np"
   ]
  },
  {
   "cell_type": "code",
   "execution_count": null,
   "id": "8d1c4801-2804-4bd7-a345-8e5c3d65184d",
   "metadata": {},
   "outputs": [],
   "source": [
    "import tiktoken\n",
    "def n_tokens(string):\n",
    "    ''' returns the number of tokens in a text string '''\n",
    "\n",
    "    encoding = tiktoken.encoding_for_model('gpt-4')\n",
    "    num_tokens = len(encoding.encode(string))\n",
    "\n",
    "    return num_tokens"
   ]
  },
  {
   "cell_type": "code",
   "execution_count": null,
   "id": "7fa410e5-f664-4f32-8347-00dde5b67dbf",
   "metadata": {},
   "outputs": [],
   "source": [
    "df = pd.read_csv(\"mimic-iv-bhc.csv\")"
   ]
  },
  {
   "cell_type": "code",
   "execution_count": null,
   "id": "ef366edd-e2b1-4365-932f-6f909d0a5992",
   "metadata": {},
   "outputs": [],
   "source": [
    "print(np.mean(df['input_tokens']))\n",
    "print(np.std(df['input_tokens']))\n",
    "print(np.mean(df['target_tokens']))\n",
    "print(np.std(df['target_tokens']))"
   ]
  },
  {
   "cell_type": "code",
   "execution_count": null,
   "id": "2ab2e957-b2a1-4e4b-9eef-b01225b757e7",
   "metadata": {},
   "outputs": [],
   "source": [
    "df_1k = df[df['input_tokens']>= 300]\n",
    "df_1k = df_1k[df_1k['input_tokens']<= 1024]\n",
    "\n",
    "df_1k = df_1k[df_1k['target_tokens']>= 50]\n",
    "df_1k = df_1k[df_1k['target_tokens']<= 200]\n",
    "df_1k = df_1k.sample(n=2000, replace=False)"
   ]
  },
  {
   "cell_type": "code",
   "execution_count": null,
   "id": "509cf8b3-9478-4d0b-b712-cdb0e3b06a3a",
   "metadata": {},
   "outputs": [],
   "source": [
    "print(np.mean(df_1k['input_tokens']))\n",
    "print(np.std(df_1k['input_tokens']))\n",
    "print(np.mean(df_1k['target_tokens']))\n",
    "print(np.std(df_1k['target_tokens']))"
   ]
  },
  {
   "cell_type": "code",
   "execution_count": null,
   "id": "81ea8d8c-0515-4f48-a5ac-7d042a978f59",
   "metadata": {},
   "outputs": [],
   "source": [
    "df_1k.reset_index(inplace=True)\n",
    "df_1k = df_1k.drop(['Unnamed: 0', 'index', 'input_tokens', 'target_tokens'], axis=1)\n",
    "df_1k.columns = ['idx', 'input', 'target']\n",
    "df_1k.idx = df_1k.index\n",
    "df_1k['input'] = df_1k['input'].apply(lambda x: '<' + x)"
   ]
  },
  {
   "cell_type": "code",
   "execution_count": null,
   "id": "feffe279-dcd2-4bc3-9ea7-1b48449a109f",
   "metadata": {},
   "outputs": [],
   "source": [
    "df_1k.to_json('train_1k.json', orient='records', lines=True)"
   ]
  }
 ],
 "metadata": {
  "kernelspec": {
   "display_name": "Python 3 (ipykernel)",
   "language": "python",
   "name": "python3"
  },
  "language_info": {
   "codemirror_mode": {
    "name": "ipython",
    "version": 3
   },
   "file_extension": ".py",
   "mimetype": "text/x-python",
   "name": "python",
   "nbconvert_exporter": "python",
   "pygments_lexer": "ipython3",
   "version": "3.9.18"
  }
 },
 "nbformat": 4,
 "nbformat_minor": 5
}
